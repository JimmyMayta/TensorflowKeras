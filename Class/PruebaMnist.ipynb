{
  "nbformat": 4,
  "nbformat_minor": 0,
  "metadata": {
    "colab": {
      "name": "PruebaMnist.ipynb",
      "provenance": [],
      "include_colab_link": true
    },
    "kernelspec": {
      "name": "python3",
      "display_name": "Python 3"
    },
    "accelerator": "GPU"
  },
  "cells": [
    {
      "cell_type": "markdown",
      "metadata": {
        "id": "view-in-github",
        "colab_type": "text"
      },
      "source": [
        "<a href=\"https://colab.research.google.com/github/Serbeld/Curso_Tensorflow/blob/master/PruebaMnist.ipynb\" target=\"_parent\"><img src=\"https://colab.research.google.com/assets/colab-badge.svg\" alt=\"Open In Colab\"/></a>"
      ]
    },
    {
      "cell_type": "code",
      "metadata": {
        "id": "HXS4zn8UydDC",
        "colab_type": "code",
        "outputId": "e1eaa461-abdf-4ae9-d9b8-bbad77597833",
        "colab": {
          "base_uri": "https://localhost:8080/",
          "height": 900
        }
      },
      "source": [
        "import tensorflow as tf\n",
        "import numpy as np\n",
        "\n",
        "from keras.datasets import mnist\n",
        "from keras.models import Sequential\n",
        "from keras.layers import Dense, Dropout, Flatten, Conv2D, MaxPool2D\n",
        "from keras import backend as k\n",
        "import keras\n",
        "\n",
        "batch_size = 100\n",
        "num_classes = 10\n",
        "epochs = 10\n",
        "\n",
        "filas,columnas = 28,28\n",
        "\n",
        "(xt,yt),(xtest,ytest) = mnist.load_data()\n",
        "\n",
        "xt = xt.reshape(xt.shape[0],filas,columnas,1)\n",
        "xtest = xtest.reshape(xtest.shape[0], filas, columnas,1)\n",
        "\n",
        "xt = xt.astype('float32')\n",
        "xtest = xtest.astype('float32')\n",
        "\n",
        "xt = xt/255\n",
        "xtest = xtest/255\n",
        "\n",
        "yt = keras.utils.to_categorical(yt,num_classes)\n",
        "ytest = keras.utils.to_categorical(ytest,num_classes)\n",
        "\n",
        "modelo = Sequential()\n",
        "modelo.add(Conv2D(64,kernel_size=(3,3),activation='relu',input_shape=(28,28,1)))\n",
        "modelo.add(Conv2D(128,kernel_size=(3,3),activation='relu',input_shape=(28,28,1)))\n",
        "modelo.add(MaxPool2D(pool_size=(2,2)))\n",
        "modelo.add(Flatten())\n",
        "modelo.add(Dense(68))\n",
        "modelo.add(Dropout(0.25))\n",
        "modelo.add(Dense(20))\n",
        "modelo.add(Dropout(0.25))\n",
        "modelo.add(Dense(num_classes,activation='softmax'))\n",
        "\n",
        "modelo.compile(optimizer=keras.optimizers.Adam(),loss=keras.losses.categorical_crossentropy,metrics=['categorical_accuracy'])\n",
        "\n",
        "modelo.fit(xt,yt,batch_size,epochs,validation_data=(xtest,ytest),verbose=1)\n",
        "\n",
        "puntuacion = modelo.evaluate(xtest,ytest,verbose=1)\n",
        "\n",
        "print(puntuacion)"
      ],
      "execution_count": 0,
      "outputs": [
        {
          "output_type": "stream",
          "text": [
            "Using TensorFlow backend.\n"
          ],
          "name": "stderr"
        },
        {
          "output_type": "stream",
          "text": [
            "Downloading data from https://s3.amazonaws.com/img-datasets/mnist.npz\n",
            "11493376/11490434 [==============================] - 0s 0us/step\n",
            "WARNING:tensorflow:From /usr/local/lib/python3.6/dist-packages/keras/backend/tensorflow_backend.py:66: The name tf.get_default_graph is deprecated. Please use tf.compat.v1.get_default_graph instead.\n",
            "\n",
            "WARNING:tensorflow:From /usr/local/lib/python3.6/dist-packages/keras/backend/tensorflow_backend.py:541: The name tf.placeholder is deprecated. Please use tf.compat.v1.placeholder instead.\n",
            "\n",
            "WARNING:tensorflow:From /usr/local/lib/python3.6/dist-packages/keras/backend/tensorflow_backend.py:4432: The name tf.random_uniform is deprecated. Please use tf.random.uniform instead.\n",
            "\n",
            "WARNING:tensorflow:From /usr/local/lib/python3.6/dist-packages/keras/backend/tensorflow_backend.py:4267: The name tf.nn.max_pool is deprecated. Please use tf.nn.max_pool2d instead.\n",
            "\n",
            "WARNING:tensorflow:From /usr/local/lib/python3.6/dist-packages/keras/backend/tensorflow_backend.py:148: The name tf.placeholder_with_default is deprecated. Please use tf.compat.v1.placeholder_with_default instead.\n",
            "\n",
            "WARNING:tensorflow:From /usr/local/lib/python3.6/dist-packages/keras/backend/tensorflow_backend.py:3733: calling dropout (from tensorflow.python.ops.nn_ops) with keep_prob is deprecated and will be removed in a future version.\n",
            "Instructions for updating:\n",
            "Please use `rate` instead of `keep_prob`. Rate should be set to `rate = 1 - keep_prob`.\n",
            "WARNING:tensorflow:From /usr/local/lib/python3.6/dist-packages/keras/optimizers.py:793: The name tf.train.Optimizer is deprecated. Please use tf.compat.v1.train.Optimizer instead.\n",
            "\n",
            "WARNING:tensorflow:From /usr/local/lib/python3.6/dist-packages/keras/backend/tensorflow_backend.py:3576: The name tf.log is deprecated. Please use tf.math.log instead.\n",
            "\n",
            "WARNING:tensorflow:From /usr/local/lib/python3.6/dist-packages/tensorflow/python/ops/math_grad.py:1250: add_dispatch_support.<locals>.wrapper (from tensorflow.python.ops.array_ops) is deprecated and will be removed in a future version.\n",
            "Instructions for updating:\n",
            "Use tf.where in 2.0, which has the same broadcast rule as np.where\n",
            "Train on 60000 samples, validate on 10000 samples\n",
            "Epoch 1/10\n",
            "60000/60000 [==============================] - 22s 371us/step - loss: 0.2064 - categorical_accuracy: 0.9370 - val_loss: 0.0585 - val_categorical_accuracy: 0.9825\n",
            "Epoch 2/10\n",
            "60000/60000 [==============================] - 15s 254us/step - loss: 0.0799 - categorical_accuracy: 0.9770 - val_loss: 0.0338 - val_categorical_accuracy: 0.9883\n",
            "Epoch 3/10\n",
            "60000/60000 [==============================] - 15s 255us/step - loss: 0.0552 - categorical_accuracy: 0.9831 - val_loss: 0.0368 - val_categorical_accuracy: 0.9890\n",
            "Epoch 4/10\n",
            "60000/60000 [==============================] - 15s 253us/step - loss: 0.0446 - categorical_accuracy: 0.9861 - val_loss: 0.0338 - val_categorical_accuracy: 0.9893\n",
            "Epoch 5/10\n",
            "60000/60000 [==============================] - 15s 253us/step - loss: 0.0374 - categorical_accuracy: 0.9886 - val_loss: 0.0313 - val_categorical_accuracy: 0.9907\n",
            "Epoch 6/10\n",
            "60000/60000 [==============================] - 15s 252us/step - loss: 0.0324 - categorical_accuracy: 0.9901 - val_loss: 0.0346 - val_categorical_accuracy: 0.9898\n",
            "Epoch 7/10\n",
            "60000/60000 [==============================] - 15s 252us/step - loss: 0.0257 - categorical_accuracy: 0.9920 - val_loss: 0.0344 - val_categorical_accuracy: 0.9912\n",
            "Epoch 8/10\n",
            "60000/60000 [==============================] - 15s 254us/step - loss: 0.0234 - categorical_accuracy: 0.9927 - val_loss: 0.0412 - val_categorical_accuracy: 0.9892\n",
            "Epoch 9/10\n",
            "60000/60000 [==============================] - 15s 254us/step - loss: 0.0211 - categorical_accuracy: 0.9935 - val_loss: 0.0387 - val_categorical_accuracy: 0.9905\n",
            "Epoch 10/10\n",
            "60000/60000 [==============================] - 15s 253us/step - loss: 0.0165 - categorical_accuracy: 0.9947 - val_loss: 0.0414 - val_categorical_accuracy: 0.9905\n",
            "10000/10000 [==============================] - 1s 117us/step\n",
            "[0.041354365046092835, 0.9905]\n"
          ],
          "name": "stdout"
        }
      ]
    }
  ]
}