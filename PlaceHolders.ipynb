{
  "nbformat": 4,
  "nbformat_minor": 0,
  "metadata": {
    "colab": {
      "name": "PlaceHolders.ipynb",
      "provenance": [],
      "include_colab_link": true
    },
    "kernelspec": {
      "name": "python3",
      "display_name": "Python 3"
    },
    "accelerator": "TPU"
  },
  "cells": [
    {
      "cell_type": "markdown",
      "metadata": {
        "id": "view-in-github",
        "colab_type": "text"
      },
      "source": [
        "<a href=\"https://colab.research.google.com/github/Serbeld/Tensorflow/blob/master/PlaceHolders.ipynb\" target=\"_parent\"><img src=\"https://colab.research.google.com/assets/colab-badge.svg\" alt=\"Open In Colab\"/></a>"
      ]
    },
    {
      "cell_type": "markdown",
      "metadata": {
        "id": "lRwzKZHtIBDG",
        "colab_type": "text"
      },
      "source": [
        "**Clase de Redes**"
      ]
    },
    {
      "cell_type": "markdown",
      "metadata": {
        "id": "rTVvXG_rIJVh",
        "colab_type": "text"
      },
      "source": [
        "Redes Neuronales en tensorflow"
      ]
    },
    {
      "cell_type": "code",
      "metadata": {
        "id": "19DeuBcoGcI5",
        "colab_type": "code",
        "outputId": "d060e8b8-39ab-4a3f-e818-af3140e7740f",
        "colab": {
          "base_uri": "https://localhost:8080/",
          "height": 35
        }
      },
      "source": [
        "import tensorflow as tf\n",
        "print(tf.__version__)"
      ],
      "execution_count": 1,
      "outputs": [
        {
          "output_type": "stream",
          "text": [
            "1.15.0\n"
          ],
          "name": "stdout"
        }
      ]
    },
    {
      "cell_type": "code",
      "metadata": {
        "id": "V1fgWVlcJPi5",
        "colab_type": "code",
        "colab": {}
      },
      "source": [
        "p = tf.placeholder('float',None)"
      ],
      "execution_count": 0,
      "outputs": []
    },
    {
      "cell_type": "code",
      "metadata": {
        "id": "axmK5ZIPJe7s",
        "colab_type": "code",
        "colab": {}
      },
      "source": [
        "operacion = p + 2"
      ],
      "execution_count": 0,
      "outputs": []
    },
    {
      "cell_type": "code",
      "metadata": {
        "id": "wQP2geubJj3I",
        "colab_type": "code",
        "outputId": "751b5ae9-eaf9-4824-d076-cc127f0e285a",
        "colab": {
          "base_uri": "https://localhost:8080/",
          "height": 35
        }
      },
      "source": [
        "with tf.Session() as sess:\n",
        "  #sess.run(operacion)\n",
        "  resultado = sess.run(operacion, feed_dict = {p:[1,2,3]})\n",
        "  print(resultado)"
      ],
      "execution_count": 4,
      "outputs": [
        {
          "output_type": "stream",
          "text": [
            "[3. 4. 5.]\n"
          ],
          "name": "stdout"
        }
      ]
    },
    {
      "cell_type": "code",
      "metadata": {
        "id": "LfLIPMMoKpiB",
        "colab_type": "code",
        "colab": {}
      },
      "source": [
        "p2 = tf.placeholder('float',[None,6])"
      ],
      "execution_count": 0,
      "outputs": []
    },
    {
      "cell_type": "code",
      "metadata": {
        "id": "Aslx8Uw5KyEb",
        "colab_type": "code",
        "colab": {}
      },
      "source": [
        "operacion2 = p2*5"
      ],
      "execution_count": 0,
      "outputs": []
    },
    {
      "cell_type": "code",
      "metadata": {
        "id": "v1cmJkeJLFUc",
        "colab_type": "code",
        "colab": {
          "base_uri": "https://localhost:8080/",
          "height": 53
        },
        "outputId": "f0ff0658-de71-45d7-8fc8-e4e064e78f0d"
      },
      "source": [
        "with tf.Session() as sess:\n",
        "  datos = [[1,2,3,4,5,6],[7,8,9,10,11,12]]\n",
        "  resultado2 = sess.run(operacion2, feed_dict = {p2:datos})\n",
        "  print(resultado2)"
      ],
      "execution_count": 13,
      "outputs": [
        {
          "output_type": "stream",
          "text": [
            "[[ 5. 10. 15. 20. 25. 30.]\n",
            " [35. 40. 45. 50. 55. 60.]]\n"
          ],
          "name": "stdout"
        }
      ]
    }
  ]
}