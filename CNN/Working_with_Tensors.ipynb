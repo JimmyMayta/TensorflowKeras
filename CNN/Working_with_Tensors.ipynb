{
  "nbformat": 4,
  "nbformat_minor": 0,
  "metadata": {
    "colab": {
      "name": "Working_with_Tensors.ipynb",
      "provenance": [],
      "authorship_tag": "ABX9TyNAT/RRg5ij8x8jSs4wYBky",
      "include_colab_link": true
    },
    "kernelspec": {
      "name": "python3",
      "display_name": "Python 3"
    }
  },
  "cells": [
    {
      "cell_type": "markdown",
      "metadata": {
        "id": "view-in-github",
        "colab_type": "text"
      },
      "source": [
        "<a href=\"https://colab.research.google.com/github/Serbeld/Tensorflow/blob/master/Working_with_Tensors.ipynb\" target=\"_parent\"><img src=\"https://colab.research.google.com/assets/colab-badge.svg\" alt=\"Open In Colab\"/></a>"
      ]
    },
    {
      "cell_type": "code",
      "metadata": {
        "id": "20vHBWHjOITs",
        "colab_type": "code",
        "colab": {
          "base_uri": "https://localhost:8080/",
          "height": 173
        },
        "outputId": "3c206faf-210c-47cf-d927-cfbf2fa92dba"
      },
      "source": [
        "import numpy as np\n",
        "\n",
        "import tensorflow as tf\n",
        "\n",
        "arr = np.array([1, 5.5, 3, 1.5, 20])\n",
        "\n",
        "sess = tf.Session()\n",
        "tensor = tf.convert_to_tensor(arr,tf.float64)\n",
        "\n",
        "print(\"Tensor 1\")\n",
        "print(tensor)\n",
        "print(sess.run(tensor))\n",
        "print(type(tensor))\n",
        "print()\n",
        "\n",
        "arr2 = np.array([8, 9.5, 5, 14.5, 5])\n",
        "tensor2 = tf.convert_to_tensor(arr,tf.float64)\n",
        "\n",
        "print(\"Tensor 2\")\n",
        "print(tensor2)\n",
        "print(sess.run(tensor))\n",
        "print(type(tensor2))"
      ],
      "execution_count": 4,
      "outputs": [
        {
          "output_type": "stream",
          "text": [
            "Tensor 1\n",
            "Tensor(\"Const_2:0\", shape=(5,), dtype=float64)\n",
            "[ 1.   5.5  3.   1.5 20. ]\n",
            "<class 'tensorflow.python.framework.ops.Tensor'>\n",
            "\n",
            "Tensor 2\n",
            "Tensor(\"Const_3:0\", shape=(5,), dtype=float64)\n",
            "[ 1.   5.5  3.   1.5 20. ]\n",
            "<class 'tensorflow.python.framework.ops.Tensor'>\n"
          ],
          "name": "stdout"
        }
      ]
    },
    {
      "cell_type": "code",
      "metadata": {
        "id": "vCRZQkvHUizk",
        "colab_type": "code",
        "colab": {
          "base_uri": "https://localhost:8080/",
          "height": 34
        },
        "outputId": "b07865d8-4295-4b31-a4e5-f898d37ae725"
      },
      "source": [
        "try:\n",
        "    print(var1)\n",
        "except NameError:\n",
        "    var1 = 4"
      ],
      "execution_count": 6,
      "outputs": [
        {
          "output_type": "stream",
          "text": [
            "4\n"
          ],
          "name": "stdout"
        }
      ]
    }
  ]
}