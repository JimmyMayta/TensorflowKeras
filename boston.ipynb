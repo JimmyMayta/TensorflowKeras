{
  "nbformat": 4,
  "nbformat_minor": 0,
  "metadata": {
    "colab": {
      "name": "boston",
      "provenance": [],
      "authorship_tag": "ABX9TyMKz+vrIo4CebXixqtAmomk"
    },
    "kernelspec": {
      "name": "python3",
      "display_name": "Python 3"
    },
    "accelerator": "GPU"
  },
  "cells": [
    {
      "cell_type": "markdown",
      "metadata": {
        "id": "XWBMnhVkaCpw",
        "colab_type": "text"
      },
      "source": [
        "Se importan las librerias asociadas a tensorflow y keras"
      ]
    },
    {
      "cell_type": "code",
      "metadata": {
        "id": "jBF8IvvuRTuj",
        "colab_type": "code",
        "colab": {}
      },
      "source": [
        "import tensorflow as tf\n",
        "import numpy as np\n",
        "import keras \n",
        "from keras.datasets import boston_housing\n",
        "from keras.models import Sequential, Model\n",
        "from keras.layers import Dense, Dropout, Flatten, Conv2D, MaxPooling2D, Input\n",
        "from keras import backend as K\n",
        "#from keras.calbacks import TensorBoard\n",
        "from keras.optimizers import SGD, Adam\n",
        "from keras.applications import VGG16\n",
        "import matplotlib.pylab as plt"
      ],
      "execution_count": 0,
      "outputs": []
    },
    {
      "cell_type": "code",
      "metadata": {
        "id": "mldr8hq-Z_3O",
        "colab_type": "code",
        "colab": {}
      },
      "source": [
        "batch_size = 10\n",
        "epochs = 50"
      ],
      "execution_count": 0,
      "outputs": []
    },
    {
      "cell_type": "code",
      "metadata": {
        "id": "Y6cmKbefdxLs",
        "colab_type": "code",
        "outputId": "0129c4c7-bb7c-47f4-bacd-1dd3714dbd86",
        "colab": {
          "base_uri": "https://localhost:8080/",
          "height": 34
        }
      },
      "source": [
        "(xt, yt), (xtest, ytest) = boston_housing.load_data()\n",
        "\n",
        "mean = xt.mean(axis = 0)\n",
        "xt -= mean\n",
        "std = xt.std(axis = 0)\n",
        "xt /= std\n",
        "print(xt.shape[1])\n",
        "xtest -= mean\n",
        "xtest /= std\n",
        "\n",
        "maximo = np.max(yt)\n",
        "yt = yt/(maximo)\n",
        "ytest = ytest/maximo"
      ],
      "execution_count": 3,
      "outputs": [
        {
          "output_type": "stream",
          "text": [
            "13\n"
          ],
          "name": "stdout"
        }
      ]
    },
    {
      "cell_type": "code",
      "metadata": {
        "id": "4_aqQNoEfMsx",
        "colab_type": "code",
        "colab": {}
      },
      "source": [
        "Entradas = Input(shape = (13,))\n",
        "x = Dense(64,activation='relu')(Entradas)\n",
        "x = Dense(64, activation='relu')(x)\n",
        "x = Dense(1, activation='linear')(x)"
      ],
      "execution_count": 0,
      "outputs": []
    },
    {
      "cell_type": "code",
      "metadata": {
        "id": "ffnrS4cEh9qL",
        "colab_type": "code",
        "colab": {
          "base_uri": "https://localhost:8080/",
          "height": 1000
        },
        "outputId": "14b9ebb0-101c-45a5-c1c2-4e58564629e4"
      },
      "source": [
        "modelo = Model(inputs = Entradas, outputs = x)\n",
        "#modelo.summary()\n",
        "Adam = Adam(lr = 0.001, beta_1 = 0.90, beta_2= 0.9) \n",
        "#SGD(lr = 0.001, decay = 1e-6, momentum = 0.9, nesteroy = True)\n",
        "modelo.compile(loss = keras.losses.mse, optimizer = Adam, metrics = ['mse'])\n",
        "history = modelo.fit(xt, yt, batch_size = batch_size, epochs = epochs, verbose = 1, validation_data = (xtest, ytest))\n",
        "puntuacion = modelo.evaluate(xtest, ytest, verbose = 0)"
      ],
      "execution_count": 5,
      "outputs": [
        {
          "output_type": "stream",
          "text": [
            "WARNING:tensorflow:From /usr/local/lib/python3.6/dist-packages/keras/optimizers.py:793: The name tf.train.Optimizer is deprecated. Please use tf.compat.v1.train.Optimizer instead.\n",
            "\n",
            "WARNING:tensorflow:From /usr/local/lib/python3.6/dist-packages/keras/backend/tensorflow_backend.py:1033: The name tf.assign_add is deprecated. Please use tf.compat.v1.assign_add instead.\n",
            "\n",
            "WARNING:tensorflow:From /usr/local/lib/python3.6/dist-packages/keras/backend/tensorflow_backend.py:1020: The name tf.assign is deprecated. Please use tf.compat.v1.assign instead.\n",
            "\n",
            "WARNING:tensorflow:From /usr/local/lib/python3.6/dist-packages/keras/backend/tensorflow_backend.py:3005: The name tf.Session is deprecated. Please use tf.compat.v1.Session instead.\n",
            "\n",
            "Train on 404 samples, validate on 102 samples\n",
            "Epoch 1/50\n",
            "WARNING:tensorflow:From /usr/local/lib/python3.6/dist-packages/keras/backend/tensorflow_backend.py:190: The name tf.get_default_session is deprecated. Please use tf.compat.v1.get_default_session instead.\n",
            "\n",
            "WARNING:tensorflow:From /usr/local/lib/python3.6/dist-packages/keras/backend/tensorflow_backend.py:197: The name tf.ConfigProto is deprecated. Please use tf.compat.v1.ConfigProto instead.\n",
            "\n",
            "WARNING:tensorflow:From /usr/local/lib/python3.6/dist-packages/keras/backend/tensorflow_backend.py:207: The name tf.global_variables is deprecated. Please use tf.compat.v1.global_variables instead.\n",
            "\n",
            "WARNING:tensorflow:From /usr/local/lib/python3.6/dist-packages/keras/backend/tensorflow_backend.py:216: The name tf.is_variable_initialized is deprecated. Please use tf.compat.v1.is_variable_initialized instead.\n",
            "\n",
            "WARNING:tensorflow:From /usr/local/lib/python3.6/dist-packages/keras/backend/tensorflow_backend.py:223: The name tf.variables_initializer is deprecated. Please use tf.compat.v1.variables_initializer instead.\n",
            "\n",
            "404/404 [==============================] - 2s 4ms/step - loss: 0.1966 - mean_squared_error: 0.1966 - val_loss: 0.0310 - val_mean_squared_error: 0.0310\n",
            "Epoch 2/50\n",
            "404/404 [==============================] - 0s 438us/step - loss: 0.0201 - mean_squared_error: 0.0201 - val_loss: 0.0183 - val_mean_squared_error: 0.0183\n",
            "Epoch 3/50\n",
            "404/404 [==============================] - 0s 406us/step - loss: 0.0100 - mean_squared_error: 0.0100 - val_loss: 0.0109 - val_mean_squared_error: 0.0109\n",
            "Epoch 4/50\n",
            "404/404 [==============================] - 0s 348us/step - loss: 0.0067 - mean_squared_error: 0.0067 - val_loss: 0.0111 - val_mean_squared_error: 0.0111\n",
            "Epoch 5/50\n",
            "404/404 [==============================] - 0s 370us/step - loss: 0.0057 - mean_squared_error: 0.0057 - val_loss: 0.0083 - val_mean_squared_error: 0.0083\n",
            "Epoch 6/50\n",
            "404/404 [==============================] - 0s 393us/step - loss: 0.0049 - mean_squared_error: 0.0049 - val_loss: 0.0082 - val_mean_squared_error: 0.0082\n",
            "Epoch 7/50\n",
            "404/404 [==============================] - 0s 345us/step - loss: 0.0047 - mean_squared_error: 0.0047 - val_loss: 0.0107 - val_mean_squared_error: 0.0107\n",
            "Epoch 8/50\n",
            "404/404 [==============================] - 0s 450us/step - loss: 0.0041 - mean_squared_error: 0.0041 - val_loss: 0.0086 - val_mean_squared_error: 0.0086\n",
            "Epoch 9/50\n",
            "404/404 [==============================] - 0s 338us/step - loss: 0.0035 - mean_squared_error: 0.0035 - val_loss: 0.0084 - val_mean_squared_error: 0.0084\n",
            "Epoch 10/50\n",
            "404/404 [==============================] - 0s 404us/step - loss: 0.0033 - mean_squared_error: 0.0033 - val_loss: 0.0072 - val_mean_squared_error: 0.0072\n",
            "Epoch 11/50\n",
            "404/404 [==============================] - 0s 340us/step - loss: 0.0035 - mean_squared_error: 0.0035 - val_loss: 0.0068 - val_mean_squared_error: 0.0068\n",
            "Epoch 12/50\n",
            "404/404 [==============================] - 0s 421us/step - loss: 0.0028 - mean_squared_error: 0.0028 - val_loss: 0.0063 - val_mean_squared_error: 0.0063\n",
            "Epoch 13/50\n",
            "404/404 [==============================] - 0s 356us/step - loss: 0.0029 - mean_squared_error: 0.0029 - val_loss: 0.0062 - val_mean_squared_error: 0.0062\n",
            "Epoch 14/50\n",
            "404/404 [==============================] - 0s 331us/step - loss: 0.0028 - mean_squared_error: 0.0028 - val_loss: 0.0063 - val_mean_squared_error: 0.0063\n",
            "Epoch 15/50\n",
            "404/404 [==============================] - 0s 326us/step - loss: 0.0027 - mean_squared_error: 0.0027 - val_loss: 0.0065 - val_mean_squared_error: 0.0065\n",
            "Epoch 16/50\n",
            "404/404 [==============================] - 0s 390us/step - loss: 0.0025 - mean_squared_error: 0.0025 - val_loss: 0.0084 - val_mean_squared_error: 0.0084\n",
            "Epoch 17/50\n",
            "404/404 [==============================] - 0s 407us/step - loss: 0.0027 - mean_squared_error: 0.0027 - val_loss: 0.0055 - val_mean_squared_error: 0.0055\n",
            "Epoch 18/50\n",
            "404/404 [==============================] - 0s 360us/step - loss: 0.0022 - mean_squared_error: 0.0022 - val_loss: 0.0055 - val_mean_squared_error: 0.0055\n",
            "Epoch 19/50\n",
            "404/404 [==============================] - 0s 420us/step - loss: 0.0023 - mean_squared_error: 0.0023 - val_loss: 0.0059 - val_mean_squared_error: 0.0059\n",
            "Epoch 20/50\n",
            "404/404 [==============================] - 0s 326us/step - loss: 0.0020 - mean_squared_error: 0.0020 - val_loss: 0.0062 - val_mean_squared_error: 0.0062\n",
            "Epoch 21/50\n",
            "404/404 [==============================] - 0s 336us/step - loss: 0.0020 - mean_squared_error: 0.0020 - val_loss: 0.0057 - val_mean_squared_error: 0.0057\n",
            "Epoch 22/50\n",
            "404/404 [==============================] - 0s 398us/step - loss: 0.0021 - mean_squared_error: 0.0021 - val_loss: 0.0070 - val_mean_squared_error: 0.0070\n",
            "Epoch 23/50\n",
            "404/404 [==============================] - 0s 394us/step - loss: 0.0021 - mean_squared_error: 0.0021 - val_loss: 0.0070 - val_mean_squared_error: 0.0070\n",
            "Epoch 24/50\n",
            "404/404 [==============================] - 0s 436us/step - loss: 0.0022 - mean_squared_error: 0.0022 - val_loss: 0.0067 - val_mean_squared_error: 0.0067\n",
            "Epoch 25/50\n",
            "404/404 [==============================] - 0s 337us/step - loss: 0.0025 - mean_squared_error: 0.0025 - val_loss: 0.0056 - val_mean_squared_error: 0.0056\n",
            "Epoch 26/50\n",
            "404/404 [==============================] - 0s 361us/step - loss: 0.0016 - mean_squared_error: 0.0016 - val_loss: 0.0059 - val_mean_squared_error: 0.0059\n",
            "Epoch 27/50\n",
            "404/404 [==============================] - 0s 323us/step - loss: 0.0018 - mean_squared_error: 0.0018 - val_loss: 0.0056 - val_mean_squared_error: 0.0056\n",
            "Epoch 28/50\n",
            "404/404 [==============================] - 0s 290us/step - loss: 0.0018 - mean_squared_error: 0.0018 - val_loss: 0.0062 - val_mean_squared_error: 0.0062\n",
            "Epoch 29/50\n",
            "404/404 [==============================] - 0s 320us/step - loss: 0.0018 - mean_squared_error: 0.0018 - val_loss: 0.0053 - val_mean_squared_error: 0.0053\n",
            "Epoch 30/50\n",
            "404/404 [==============================] - 0s 340us/step - loss: 0.0015 - mean_squared_error: 0.0015 - val_loss: 0.0055 - val_mean_squared_error: 0.0055\n",
            "Epoch 31/50\n",
            "404/404 [==============================] - 0s 349us/step - loss: 0.0015 - mean_squared_error: 0.0015 - val_loss: 0.0058 - val_mean_squared_error: 0.0058\n",
            "Epoch 32/50\n",
            "404/404 [==============================] - 0s 311us/step - loss: 0.0015 - mean_squared_error: 0.0015 - val_loss: 0.0056 - val_mean_squared_error: 0.0056\n",
            "Epoch 33/50\n",
            "404/404 [==============================] - 0s 294us/step - loss: 0.0014 - mean_squared_error: 0.0014 - val_loss: 0.0064 - val_mean_squared_error: 0.0064\n",
            "Epoch 34/50\n",
            "404/404 [==============================] - 0s 354us/step - loss: 0.0017 - mean_squared_error: 0.0017 - val_loss: 0.0070 - val_mean_squared_error: 0.0070\n",
            "Epoch 35/50\n",
            "404/404 [==============================] - 0s 325us/step - loss: 0.0023 - mean_squared_error: 0.0023 - val_loss: 0.0056 - val_mean_squared_error: 0.0056\n",
            "Epoch 36/50\n",
            "404/404 [==============================] - 0s 336us/step - loss: 0.0017 - mean_squared_error: 0.0017 - val_loss: 0.0058 - val_mean_squared_error: 0.0058\n",
            "Epoch 37/50\n",
            "404/404 [==============================] - 0s 333us/step - loss: 0.0014 - mean_squared_error: 0.0014 - val_loss: 0.0058 - val_mean_squared_error: 0.0058\n",
            "Epoch 38/50\n",
            "404/404 [==============================] - 0s 363us/step - loss: 0.0011 - mean_squared_error: 0.0011 - val_loss: 0.0061 - val_mean_squared_error: 0.0061\n",
            "Epoch 39/50\n",
            "404/404 [==============================] - 0s 344us/step - loss: 0.0014 - mean_squared_error: 0.0014 - val_loss: 0.0058 - val_mean_squared_error: 0.0058\n",
            "Epoch 40/50\n",
            "404/404 [==============================] - 0s 308us/step - loss: 0.0015 - mean_squared_error: 0.0015 - val_loss: 0.0055 - val_mean_squared_error: 0.0055\n",
            "Epoch 41/50\n",
            "404/404 [==============================] - 0s 316us/step - loss: 0.0013 - mean_squared_error: 0.0013 - val_loss: 0.0058 - val_mean_squared_error: 0.0058\n",
            "Epoch 42/50\n",
            "404/404 [==============================] - 0s 375us/step - loss: 0.0014 - mean_squared_error: 0.0014 - val_loss: 0.0062 - val_mean_squared_error: 0.0062\n",
            "Epoch 43/50\n",
            "404/404 [==============================] - 0s 358us/step - loss: 0.0018 - mean_squared_error: 0.0018 - val_loss: 0.0057 - val_mean_squared_error: 0.0057\n",
            "Epoch 44/50\n",
            "404/404 [==============================] - 0s 311us/step - loss: 0.0014 - mean_squared_error: 0.0014 - val_loss: 0.0056 - val_mean_squared_error: 0.0056\n",
            "Epoch 45/50\n",
            "404/404 [==============================] - 0s 338us/step - loss: 0.0011 - mean_squared_error: 0.0011 - val_loss: 0.0059 - val_mean_squared_error: 0.0059\n",
            "Epoch 46/50\n",
            "404/404 [==============================] - 0s 451us/step - loss: 0.0012 - mean_squared_error: 0.0012 - val_loss: 0.0066 - val_mean_squared_error: 0.0066\n",
            "Epoch 47/50\n",
            "404/404 [==============================] - 0s 353us/step - loss: 0.0015 - mean_squared_error: 0.0015 - val_loss: 0.0053 - val_mean_squared_error: 0.0053\n",
            "Epoch 48/50\n",
            "404/404 [==============================] - 0s 365us/step - loss: 0.0013 - mean_squared_error: 0.0013 - val_loss: 0.0050 - val_mean_squared_error: 0.0050\n",
            "Epoch 49/50\n",
            "404/404 [==============================] - 0s 349us/step - loss: 0.0011 - mean_squared_error: 0.0011 - val_loss: 0.0066 - val_mean_squared_error: 0.0066\n",
            "Epoch 50/50\n",
            "404/404 [==============================] - 0s 342us/step - loss: 0.0018 - mean_squared_error: 0.0018 - val_loss: 0.0061 - val_mean_squared_error: 0.0061\n"
          ],
          "name": "stdout"
        }
      ]
    },
    {
      "cell_type": "code",
      "metadata": {
        "id": "4JwO9wbi4K_D",
        "colab_type": "code",
        "colab": {
          "base_uri": "https://localhost:8080/",
          "height": 34
        },
        "outputId": "b01b62e8-01bd-4737-a999-03fe91078739"
      },
      "source": [
        "print(puntuacion)"
      ],
      "execution_count": 6,
      "outputs": [
        {
          "output_type": "stream",
          "text": [
            "[0.0061206648162766995, 0.0061206648162766995]\n"
          ],
          "name": "stdout"
        }
      ]
    },
    {
      "cell_type": "code",
      "metadata": {
        "id": "qOb-Dhi04ftR",
        "colab_type": "code",
        "colab": {
          "base_uri": "https://localhost:8080/",
          "height": 295
        },
        "outputId": "e727f14e-1ebb-4809-89b4-7764046b09dd"
      },
      "source": [
        "plt.figure(1) \n",
        "plt.plot(np.sqrt(history.history['loss'])*maximo)\n",
        "plt.plot(np.sqrt(history.history['val_loss'])*maximo)\n",
        "plt.title('Perdidas del Modelo')\n",
        "plt.ylabel('Perdidas')\n",
        "plt.xlabel('Epocas')\n",
        "plt.legend(['Entrenamiento','test'],loc = 'upper right')\n",
        "plt.show()"
      ],
      "execution_count": 7,
      "outputs": [
        {
          "output_type": "display_data",
          "data": {
            "image/png": "[encoded data removed]",
            "text/plain": [
              "<Figure size 432x288 with 1 Axes>"
            ]
          },
          "metadata": {
            "tags": []
          }
        }
      ]
    }
  ]
}