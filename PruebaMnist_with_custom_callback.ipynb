{
  "nbformat": 4,
  "nbformat_minor": 0,
  "metadata": {
    "colab": {
      "name": "PruebaMnist_with_custom_callback.ipynb",
      "provenance": [],
      "include_colab_link": true
    },
    "kernelspec": {
      "name": "python3",
      "display_name": "Python 3"
    },
    "accelerator": "GPU"
  },
  "cells": [
    {
      "cell_type": "markdown",
      "metadata": {
        "id": "view-in-github",
        "colab_type": "text"
      },
      "source": [
        "<a href=\"https://colab.research.google.com/github/Serbeld/Tensorflow/blob/master/PruebaMnist_with_custom_callback.ipynb\" target=\"_parent\"><img src=\"https://colab.research.google.com/assets/colab-badge.svg\" alt=\"Open In Colab\"/></a>"
      ]
    },
    {
      "cell_type": "code",
      "metadata": {
        "id": "y11rzX03RI07",
        "colab_type": "code",
        "colab": {}
      },
      "source": [
        "#!pip install tensorflow==1.3\n",
        "#!pip install keras"
      ],
      "execution_count": 0,
      "outputs": []
    },
    {
      "cell_type": "code",
      "metadata": {
        "id": "Vl78wZ9XQDLW",
        "colab_type": "code",
        "colab": {
          "base_uri": "https://localhost:8080/",
          "height": 52
        },
        "outputId": "d5834315-ba18-421a-d661-bce349edc3b1"
      },
      "source": [
        "import tensorflow as tf\n",
        "print(tf.__version__)\n",
        "\n",
        "import keras as k\n",
        "print(k.__version__)"
      ],
      "execution_count": 9,
      "outputs": [
        {
          "output_type": "stream",
          "text": [
            "1.3.0\n",
            "2.2.5\n"
          ],
          "name": "stdout"
        }
      ]
    },
    {
      "cell_type": "code",
      "metadata": {
        "id": "HXS4zn8UydDC",
        "colab_type": "code",
        "outputId": "a40422ad-79f0-4ed1-ab01-b894a6afdc51",
        "colab": {
          "base_uri": "https://localhost:8080/",
          "height": 469
        }
      },
      "source": [
        "import tensorflow as tf\n",
        "import numpy as np\n",
        "import matplotlib.pyplot as plt\n",
        "\n",
        "from keras.datasets import mnist\n",
        "from keras.models import Sequential\n",
        "from keras.layers import Dense, Dropout, Flatten, Conv2D, MaxPool2D, Activation\n",
        "\n",
        "import keras\n",
        "from keras.layers import Activation, Dense\n",
        "batch_size = 32\n",
        "num_classes = 10\n",
        "epochs = 15\n",
        "\n",
        "filas,columnas = 28,28\n",
        "\n",
        "(xt,yt),(xtest,ytest) = mnist.load_data()\n",
        "\n",
        "xt = xt.reshape(xt.shape[0],filas,columnas,1)\n",
        "xtest = xtest.reshape(xtest.shape[0], filas, columnas,1)\n",
        "\n",
        "xt = xt.astype('float32')\n",
        "xtest = xtest.astype('float32')\n",
        "\n",
        "xt = xt/255\n",
        "xtest = xtest/255\n",
        "\n",
        "yt = keras.utils.to_categorical(yt,num_classes)\n",
        "ytest = keras.utils.to_categorical(ytest,num_classes)\n",
        "\n",
        "xt = xt[0:100]\n",
        "yt = yt[0:100]\n",
        "\n",
        "modelo = Sequential()\n",
        "modelo.add(Conv2D(64,kernel_size=(2,2),activation='relu',\n",
        "                  input_shape=(28,28,1)))\n",
        "\n",
        "modelo.add(Conv2D(64,kernel_size=(2,2),activation='relu',\n",
        "                  input_shape=(28,28,1)))\n",
        "\n",
        "modelo.add(MaxPool2D(pool_size=(2,2)))\n",
        "modelo.add(Flatten())\n",
        "modelo.add(Dense(68))\n",
        "modelo.add(Dropout(0.25))\n",
        "modelo.add(Dense(20))\n",
        "modelo.add(Dropout(0.25))\n",
        "modelo.add(Dense(num_classes, activation='relu'))\n",
        "\n",
        "modelo.compile(optimizer=keras.optimizers.Adam(),\n",
        "               loss=keras.losses.categorical_crossentropy,\n",
        "               metrics=['categorical_accuracy'])\n",
        "\n",
        "modelo.summary()"
      ],
      "execution_count": 10,
      "outputs": [
        {
          "output_type": "stream",
          "text": [
            "Model: \"sequential_2\"\n",
            "_________________________________________________________________\n",
            "Layer (type)                 Output Shape              Param #   \n",
            "=================================================================\n",
            "conv2d_3 (Conv2D)            (None, 27, 27, 64)        320       \n",
            "_________________________________________________________________\n",
            "conv2d_4 (Conv2D)            (None, 26, 26, 64)        16448     \n",
            "_________________________________________________________________\n",
            "max_pooling2d_2 (MaxPooling2 (None, 13, 13, 64)        0         \n",
            "_________________________________________________________________\n",
            "flatten_2 (Flatten)          (None, 10816)             0         \n",
            "_________________________________________________________________\n",
            "dense_4 (Dense)              (None, 68)                735556    \n",
            "_________________________________________________________________\n",
            "dropout_3 (Dropout)          (None, 68)                0         \n",
            "_________________________________________________________________\n",
            "dense_5 (Dense)              (None, 20)                1380      \n",
            "_________________________________________________________________\n",
            "dropout_4 (Dropout)          (None, 20)                0         \n",
            "_________________________________________________________________\n",
            "dense_6 (Dense)              (None, 10)                210       \n",
            "=================================================================\n",
            "Total params: 753,914\n",
            "Trainable params: 753,914\n",
            "Non-trainable params: 0\n",
            "_________________________________________________________________\n"
          ],
          "name": "stdout"
        }
      ]
    },
    {
      "cell_type": "code",
      "metadata": {
        "id": "jvqKE8SNPCgP",
        "colab_type": "code",
        "colab": {
          "base_uri": "https://localhost:8080/",
          "height": 312
        },
        "outputId": "3956580e-6494-4807-e1ac-ba9f65fb1890"
      },
      "source": [
        "class LossAndErrorPrintingCallback(keras.callbacks.Callback):\n",
        "\n",
        "  global vector\n",
        "  vector = []\n",
        "\n",
        "  #def on_train_batch_end(self, batch, logs=None):\n",
        "    #print('For batch {}, loss is {:7.2f}.'.format(batch, logs['loss']))\n",
        "\n",
        "  #def on_test_batch_end(self, batch, logs=None):\n",
        "  #  print('For batch {}, loss is {:7.2f}.'.format(batch, logs['loss']))\n",
        "\n",
        "  def on_epoch_end(self, epoch, logs=None):\n",
        "    vector.append(logs['categorical_accuracy'])\n",
        "    print('The average loss for epoch {} is {:7.2f} and  categorical accuracy is {:7.2f}.'.format(epoch, logs['loss'], logs['categorical_accuracy']))\n",
        "\n",
        "model = modelo.fit(xt, yt,batch_size,epochs,\n",
        "                   validation_data=(xtest,ytest),\n",
        "                   shuffle=True,verbose=0,\n",
        "                   callbacks=[LossAndErrorPrintingCallback()])\n",
        "\n",
        "#modelo.fit(xt,yt,batch_size,epochs,validation_data=(xtest,ytest),shuffle=True,verbose=1)\n",
        "\n",
        "\n",
        "puntuacion = modelo.evaluate(xtest,ytest,verbose=1)\n",
        "#plt.imshow(xt.shape[0])\n",
        "#predictions = modelo.predict(xt[0])\n",
        "\n",
        "print(puntuacion)"
      ],
      "execution_count": 11,
      "outputs": [
        {
          "output_type": "stream",
          "text": [
            "The average loss for epoch 0 is   11.65 and  categorical accuracy is    0.12.\n",
            "The average loss for epoch 1 is    8.55 and  categorical accuracy is    0.17.\n",
            "The average loss for epoch 2 is    7.68 and  categorical accuracy is    0.15.\n",
            "The average loss for epoch 3 is    7.27 and  categorical accuracy is    0.24.\n",
            "The average loss for epoch 4 is    6.46 and  categorical accuracy is    0.27.\n",
            "The average loss for epoch 5 is    6.29 and  categorical accuracy is    0.22.\n",
            "The average loss for epoch 6 is    5.73 and  categorical accuracy is    0.26.\n",
            "The average loss for epoch 7 is    5.17 and  categorical accuracy is    0.26.\n",
            "The average loss for epoch 8 is    4.85 and  categorical accuracy is    0.26.\n",
            "The average loss for epoch 9 is    5.06 and  categorical accuracy is    0.29.\n",
            "The average loss for epoch 10 is    4.67 and  categorical accuracy is    0.25.\n",
            "The average loss for epoch 11 is    3.75 and  categorical accuracy is    0.28.\n",
            "The average loss for epoch 12 is    4.30 and  categorical accuracy is    0.26.\n",
            "The average loss for epoch 13 is    3.60 and  categorical accuracy is    0.30.\n",
            "The average loss for epoch 14 is    3.45 and  categorical accuracy is    0.30.\n",
            "10000/10000 [==============================] - 17s 2ms/step\n",
            "[3.4313217987060547, 0.2722]\n"
          ],
          "name": "stdout"
        }
      ]
    },
    {
      "cell_type": "code",
      "metadata": {
        "id": "FVZxNaZXVGNf",
        "colab_type": "code",
        "colab": {
          "base_uri": "https://localhost:8080/",
          "height": 34
        },
        "outputId": "46ca75cd-9cb6-4b68-a7d8-f39c7e0c1484"
      },
      "source": [
        "print(vector)"
      ],
      "execution_count": 12,
      "outputs": [
        {
          "output_type": "stream",
          "text": [
            "[0.12, 0.17, 0.15, 0.24, 0.27, 0.22, 0.26, 0.26, 0.26, 0.29, 0.25, 0.28, 0.26, 0.3, 0.3]\n"
          ],
          "name": "stdout"
        }
      ]
    }
  ]
}